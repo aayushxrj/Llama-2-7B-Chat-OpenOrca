{
  "cells": [
    {
      "cell_type": "markdown",
      "metadata": {
        "id": "view-in-github",
        "colab_type": "text"
      },
      "source": [
        "<a href=\"https://colab.research.google.com/github/aayushxrj/Llama-2-7B-Chat-OpenOrca/blob/main/preprocessing_orca_dataset.ipynb\" target=\"_parent\"><img src=\"https://colab.research.google.com/assets/colab-badge.svg\" alt=\"Open In Colab\"/></a>"
      ]
    },
    {
      "cell_type": "markdown",
      "metadata": {
        "id": "XnbLHEGawJDy"
      },
      "source": [
        "### Importing necessary libraries and the dataset"
      ]
    },
    {
      "cell_type": "code",
      "execution_count": null,
      "metadata": {
        "id": "72NLp8tiwJDz"
      },
      "outputs": [],
      "source": [
        "%%capture\n",
        "!pip install pyarrow pandas"
      ]
    },
    {
      "cell_type": "code",
      "execution_count": null,
      "metadata": {
        "id": "MGOf8UK2wJD0"
      },
      "outputs": [],
      "source": [
        "import pandas as pd"
      ]
    },
    {
      "cell_type": "code",
      "execution_count": null,
      "metadata": {
        "id": "tLTljzkYwJD1",
        "outputId": "f5f8aa1d-bffd-4a4b-c21f-aaa7f6786016"
      },
      "outputs": [
        {
          "data": {
            "text/html": [
              "<div>\n",
              "<style scoped>\n",
              "    .dataframe tbody tr th:only-of-type {\n",
              "        vertical-align: middle;\n",
              "    }\n",
              "\n",
              "    .dataframe tbody tr th {\n",
              "        vertical-align: top;\n",
              "    }\n",
              "\n",
              "    .dataframe thead th {\n",
              "        text-align: right;\n",
              "    }\n",
              "</style>\n",
              "<table border=\"1\" class=\"dataframe\">\n",
              "  <thead>\n",
              "    <tr style=\"text-align: right;\">\n",
              "      <th></th>\n",
              "      <th>id</th>\n",
              "      <th>system_prompt</th>\n",
              "      <th>question</th>\n",
              "      <th>response</th>\n",
              "    </tr>\n",
              "  </thead>\n",
              "  <tbody>\n",
              "    <tr>\n",
              "      <th>0</th>\n",
              "      <td>niv.242684</td>\n",
              "      <td></td>\n",
              "      <td>You will be given a definition of a task first...</td>\n",
              "      <td>[\\n  [\"AFC Ajax (amateurs)\", \"has ground\", \"Sp...</td>\n",
              "    </tr>\n",
              "    <tr>\n",
              "      <th>1</th>\n",
              "      <td>flan.564327</td>\n",
              "      <td>You are an AI assistant. You will be given a t...</td>\n",
              "      <td>Generate an approximately fifteen-word sentenc...</td>\n",
              "      <td>Midsummer House is a moderately priced Chinese...</td>\n",
              "    </tr>\n",
              "    <tr>\n",
              "      <th>2</th>\n",
              "      <td>flan.1875913</td>\n",
              "      <td>You are a helpful assistant, who always provid...</td>\n",
              "      <td>What happens next in this paragraph?\\n\\nShe th...</td>\n",
              "      <td>C. She then dips the needle in ink and using t...</td>\n",
              "    </tr>\n",
              "    <tr>\n",
              "      <th>3</th>\n",
              "      <td>t0.408370</td>\n",
              "      <td>You are an AI assistant. You will be given a t...</td>\n",
              "      <td>Please answer the following question: I want t...</td>\n",
              "      <td>Based on the passage, discuss the primary moti...</td>\n",
              "    </tr>\n",
              "    <tr>\n",
              "      <th>4</th>\n",
              "      <td>cot.86217</td>\n",
              "      <td>You are an AI assistant that helps people find...</td>\n",
              "      <td>James runs a TV show and there are 5 main char...</td>\n",
              "      <td>James pays the minor characters $15,000 each e...</td>\n",
              "    </tr>\n",
              "  </tbody>\n",
              "</table>\n",
              "</div>"
            ],
            "text/plain": [
              "             id                                      system_prompt  \\\n",
              "0    niv.242684                                                      \n",
              "1   flan.564327  You are an AI assistant. You will be given a t...   \n",
              "2  flan.1875913  You are a helpful assistant, who always provid...   \n",
              "3     t0.408370  You are an AI assistant. You will be given a t...   \n",
              "4     cot.86217  You are an AI assistant that helps people find...   \n",
              "\n",
              "                                            question  \\\n",
              "0  You will be given a definition of a task first...   \n",
              "1  Generate an approximately fifteen-word sentenc...   \n",
              "2  What happens next in this paragraph?\\n\\nShe th...   \n",
              "3  Please answer the following question: I want t...   \n",
              "4  James runs a TV show and there are 5 main char...   \n",
              "\n",
              "                                            response  \n",
              "0  [\\n  [\"AFC Ajax (amateurs)\", \"has ground\", \"Sp...  \n",
              "1  Midsummer House is a moderately priced Chinese...  \n",
              "2  C. She then dips the needle in ink and using t...  \n",
              "3  Based on the passage, discuss the primary moti...  \n",
              "4  James pays the minor characters $15,000 each e...  "
            ]
          },
          "execution_count": 3,
          "metadata": {},
          "output_type": "execute_result"
        }
      ],
      "source": [
        "gpt4_data = pd.read_parquet('1M-GPT4-Augmented.parquet')\n",
        "gpt4_data.head()"
      ]
    },
    {
      "cell_type": "code",
      "execution_count": null,
      "metadata": {
        "id": "EWXtjthcwJD1",
        "outputId": "e333953b-2c85-414e-fb04-3e2a45c07a9c"
      },
      "outputs": [
        {
          "data": {
            "text/html": [
              "<div>\n",
              "<style scoped>\n",
              "    .dataframe tbody tr th:only-of-type {\n",
              "        vertical-align: middle;\n",
              "    }\n",
              "\n",
              "    .dataframe tbody tr th {\n",
              "        vertical-align: top;\n",
              "    }\n",
              "\n",
              "    .dataframe thead th {\n",
              "        text-align: right;\n",
              "    }\n",
              "</style>\n",
              "<table border=\"1\" class=\"dataframe\">\n",
              "  <thead>\n",
              "    <tr style=\"text-align: right;\">\n",
              "      <th></th>\n",
              "      <th>id</th>\n",
              "      <th>system_prompt</th>\n",
              "      <th>question</th>\n",
              "      <th>response</th>\n",
              "    </tr>\n",
              "  </thead>\n",
              "  <tbody>\n",
              "    <tr>\n",
              "      <th>0</th>\n",
              "      <td>t0.1791914</td>\n",
              "      <td>You are an AI assistant that follows instructi...</td>\n",
              "      <td>Q:The exercise is to decide whether the questi...</td>\n",
              "      <td>True.</td>\n",
              "    </tr>\n",
              "    <tr>\n",
              "      <th>1</th>\n",
              "      <td>flan.2203053</td>\n",
              "      <td>You are a helpful assistant, who always provid...</td>\n",
              "      <td>Sentence 1: There is no need. \\n\\nSentence 2: ...</td>\n",
              "      <td>Yes, if the first sentence is true, then the s...</td>\n",
              "    </tr>\n",
              "    <tr>\n",
              "      <th>2</th>\n",
              "      <td>flan.1943030</td>\n",
              "      <td>You are a helpful assistant, who always provid...</td>\n",
              "      <td>On his oak mantelpiece are a drinking bowl fro...</td>\n",
              "      <td>We cannot conclude that the sentence \"The Ebol...</td>\n",
              "    </tr>\n",
              "    <tr>\n",
              "      <th>3</th>\n",
              "      <td>t0.870962</td>\n",
              "      <td>You are an AI assistant that follows instructi...</td>\n",
              "      <td>Question: Read the following paragraph and ext...</td>\n",
              "      <td>The full name of the person whose version of \"...</td>\n",
              "    </tr>\n",
              "    <tr>\n",
              "      <th>4</th>\n",
              "      <td>t0.314926</td>\n",
              "      <td>You are an AI assistant that follows instructi...</td>\n",
              "      <td>I have a test where I am given the following a...</td>\n",
              "      <td>The Rova compound remained largely closed to t...</td>\n",
              "    </tr>\n",
              "  </tbody>\n",
              "</table>\n",
              "</div>"
            ],
            "text/plain": [
              "             id                                      system_prompt  \\\n",
              "0    t0.1791914  You are an AI assistant that follows instructi...   \n",
              "1  flan.2203053  You are a helpful assistant, who always provid...   \n",
              "2  flan.1943030  You are a helpful assistant, who always provid...   \n",
              "3     t0.870962  You are an AI assistant that follows instructi...   \n",
              "4     t0.314926  You are an AI assistant that follows instructi...   \n",
              "\n",
              "                                            question  \\\n",
              "0  Q:The exercise is to decide whether the questi...   \n",
              "1  Sentence 1: There is no need. \\n\\nSentence 2: ...   \n",
              "2  On his oak mantelpiece are a drinking bowl fro...   \n",
              "3  Question: Read the following paragraph and ext...   \n",
              "4  I have a test where I am given the following a...   \n",
              "\n",
              "                                            response  \n",
              "0                                              True.  \n",
              "1  Yes, if the first sentence is true, then the s...  \n",
              "2  We cannot conclude that the sentence \"The Ebol...  \n",
              "3  The full name of the person whose version of \"...  \n",
              "4  The Rova compound remained largely closed to t...  "
            ]
          },
          "execution_count": 4,
          "metadata": {},
          "output_type": "execute_result"
        }
      ],
      "source": [
        "gpt3_5_data = pd.read_parquet('3_5M-GPT3_5-Augmented.parquet')\n",
        "gpt3_5_data.head()\n"
      ]
    },
    {
      "cell_type": "code",
      "execution_count": null,
      "metadata": {
        "id": "cEy4SNRzwJD2",
        "outputId": "927b177f-fb15-4e62-a66a-44006526f1ce"
      },
      "outputs": [
        {
          "name": "stdout",
          "output_type": "stream",
          "text": [
            "There are 994896 rows in the gpt4 dataset.\n",
            "There are 3239027 rows in the gpt3.5 dataset.\n"
          ]
        }
      ],
      "source": [
        "# getting the length of both the datasets\n",
        "print(f\"There are {len(gpt4_data)} rows in the gpt4 dataset.\")\n",
        "print(f\"There are {len(gpt3_5_data)} rows in the gpt3.5 dataset.\")"
      ]
    },
    {
      "cell_type": "markdown",
      "metadata": {
        "id": "W5fqgCTZwJD2"
      },
      "source": [
        "### Preprocessing function to drop rows with less than 100 tokens for the \"`question`\" column"
      ]
    },
    {
      "cell_type": "code",
      "execution_count": null,
      "metadata": {
        "id": "pNRbLGohwJD2"
      },
      "outputs": [],
      "source": [
        "def preprocess(df):\n",
        "    df['tokens'] = df['question'].apply(lambda x: len(x.split()))\n",
        "    df_new = df[df['tokens'] > 100].copy()\n",
        "    df_new.drop([\"tokens\"], axis=1, inplace=True)\n",
        "    return df_new"
      ]
    },
    {
      "cell_type": "code",
      "execution_count": null,
      "metadata": {
        "id": "I_3kkaXPwJD3"
      },
      "outputs": [],
      "source": [
        "# Sampling and working with 1% dataset to speed up data analysis\n",
        "df_sampled = gpt4_data.sample(frac=0.01,random_state=42)"
      ]
    },
    {
      "cell_type": "code",
      "execution_count": null,
      "metadata": {
        "id": "WNYWXBiiwJD3",
        "outputId": "6b7df343-44f4-4b43-a235-cc786922e242"
      },
      "outputs": [
        {
          "data": {
            "text/html": [
              "<div>\n",
              "<style scoped>\n",
              "    .dataframe tbody tr th:only-of-type {\n",
              "        vertical-align: middle;\n",
              "    }\n",
              "\n",
              "    .dataframe tbody tr th {\n",
              "        vertical-align: top;\n",
              "    }\n",
              "\n",
              "    .dataframe thead th {\n",
              "        text-align: right;\n",
              "    }\n",
              "</style>\n",
              "<table border=\"1\" class=\"dataframe\">\n",
              "  <thead>\n",
              "    <tr style=\"text-align: right;\">\n",
              "      <th></th>\n",
              "      <th>id</th>\n",
              "      <th>system_prompt</th>\n",
              "      <th>question</th>\n",
              "      <th>response</th>\n",
              "    </tr>\n",
              "  </thead>\n",
              "  <tbody>\n",
              "    <tr>\n",
              "      <th>479803</th>\n",
              "      <td>flan.915371</td>\n",
              "      <td>You are an AI assistant. You will be given a t...</td>\n",
              "      <td>Choose how you want this story to end.\\n\\nIt's...</td>\n",
              "      <td>In the wake of the heartbreaking tragedy, Basi...</td>\n",
              "    </tr>\n",
              "    <tr>\n",
              "      <th>659207</th>\n",
              "      <td>t0.477447</td>\n",
              "      <td>You are an AI assistant. You will be given a t...</td>\n",
              "      <td>Q:I read this background article the other day...</td>\n",
              "      <td>Based on the information provided in the backg...</td>\n",
              "    </tr>\n",
              "    <tr>\n",
              "      <th>930172</th>\n",
              "      <td>flan.2028248</td>\n",
              "      <td>You are an AI assistant. User will you give yo...</td>\n",
              "      <td>Wonder Girls (Hangul: weondeogeolseu) was a So...</td>\n",
              "      <td>What awards did the Wonder Girls win at the 20...</td>\n",
              "    </tr>\n",
              "    <tr>\n",
              "      <th>450767</th>\n",
              "      <td>niv.124190</td>\n",
              "      <td>You are a teacher. Given a task, you explain i...</td>\n",
              "      <td>Definition: Given an input stream, the objecti...</td>\n",
              "      <td>Task Explanation:\\n1. Understand the objective...</td>\n",
              "    </tr>\n",
              "    <tr>\n",
              "      <th>519455</th>\n",
              "      <td>t0.106753</td>\n",
              "      <td>You are an AI assistant. Provide a detailed an...</td>\n",
              "      <td>Please answer the following question: Informat...</td>\n",
              "      <td>The novel 'Double Helix' by Nancy Werlin is re...</td>\n",
              "    </tr>\n",
              "    <tr>\n",
              "      <th>895568</th>\n",
              "      <td>flan.644870</td>\n",
              "      <td>You are a helpful assistant, who always provid...</td>\n",
              "      <td>I hadn't been to Olive Garden in years and was...</td>\n",
              "      <td>This review would be described as negative sen...</td>\n",
              "    </tr>\n",
              "    <tr>\n",
              "      <th>976680</th>\n",
              "      <td>t0.1441057</td>\n",
              "      <td>You are an AI assistant. User will you give yo...</td>\n",
              "      <td>Information:  - Russia (from the  Rus'), also ...</td>\n",
              "      <td>The entity with which 'peter troubetzkoy' exhi...</td>\n",
              "    </tr>\n",
              "    <tr>\n",
              "      <th>575501</th>\n",
              "      <td>t0.721612</td>\n",
              "      <td>You are an AI assistant. Provide a detailed an...</td>\n",
              "      <td>Q:The answer to the question: What are the fir...</td>\n",
              "      <td>The first names of the people whose employers ...</td>\n",
              "    </tr>\n",
              "    <tr>\n",
              "      <th>9237</th>\n",
              "      <td>t0.928784</td>\n",
              "      <td>You are an AI assistant. User will you give yo...</td>\n",
              "      <td>Please answer the following question: Please a...</td>\n",
              "      <td>Hayes infests the dwelling with cockroaches.</td>\n",
              "    </tr>\n",
              "    <tr>\n",
              "      <th>245708</th>\n",
              "      <td>t0.526021</td>\n",
              "      <td></td>\n",
              "      <td>Q:Read the following article and select the be...</td>\n",
              "      <td>Hiding from the rain under a tree.</td>\n",
              "    </tr>\n",
              "  </tbody>\n",
              "</table>\n",
              "</div>"
            ],
            "text/plain": [
              "                  id                                      system_prompt  \\\n",
              "479803   flan.915371  You are an AI assistant. You will be given a t...   \n",
              "659207     t0.477447  You are an AI assistant. You will be given a t...   \n",
              "930172  flan.2028248  You are an AI assistant. User will you give yo...   \n",
              "450767    niv.124190  You are a teacher. Given a task, you explain i...   \n",
              "519455     t0.106753  You are an AI assistant. Provide a detailed an...   \n",
              "895568   flan.644870  You are a helpful assistant, who always provid...   \n",
              "976680    t0.1441057  You are an AI assistant. User will you give yo...   \n",
              "575501     t0.721612  You are an AI assistant. Provide a detailed an...   \n",
              "9237       t0.928784  You are an AI assistant. User will you give yo...   \n",
              "245708     t0.526021                                                      \n",
              "\n",
              "                                                 question  \\\n",
              "479803  Choose how you want this story to end.\\n\\nIt's...   \n",
              "659207  Q:I read this background article the other day...   \n",
              "930172  Wonder Girls (Hangul: weondeogeolseu) was a So...   \n",
              "450767  Definition: Given an input stream, the objecti...   \n",
              "519455  Please answer the following question: Informat...   \n",
              "895568  I hadn't been to Olive Garden in years and was...   \n",
              "976680  Information:  - Russia (from the  Rus'), also ...   \n",
              "575501  Q:The answer to the question: What are the fir...   \n",
              "9237    Please answer the following question: Please a...   \n",
              "245708  Q:Read the following article and select the be...   \n",
              "\n",
              "                                                 response  \n",
              "479803  In the wake of the heartbreaking tragedy, Basi...  \n",
              "659207  Based on the information provided in the backg...  \n",
              "930172  What awards did the Wonder Girls win at the 20...  \n",
              "450767  Task Explanation:\\n1. Understand the objective...  \n",
              "519455  The novel 'Double Helix' by Nancy Werlin is re...  \n",
              "895568  This review would be described as negative sen...  \n",
              "976680  The entity with which 'peter troubetzkoy' exhi...  \n",
              "575501  The first names of the people whose employers ...  \n",
              "9237         Hayes infests the dwelling with cockroaches.  \n",
              "245708                 Hiding from the rain under a tree.  "
            ]
          },
          "execution_count": 8,
          "metadata": {},
          "output_type": "execute_result"
        }
      ],
      "source": [
        "df_sampled_preprocessed = preprocess(df_sampled)\n",
        "df_sampled_preprocessed.head(10)"
      ]
    },
    {
      "cell_type": "code",
      "execution_count": null,
      "metadata": {
        "id": "Yy8mopdEwJD3"
      },
      "outputs": [],
      "source": [
        "# Preprocessing the gpt4 and gpt3.5 data\n",
        "gpt4_data_preprocessed = preprocess(gpt4_data)\n",
        "gpt3_5_data_preprocessed = preprocess(gpt3_5_data)\n"
      ]
    },
    {
      "cell_type": "code",
      "execution_count": null,
      "metadata": {
        "id": "YTihgZw_wJD4"
      },
      "outputs": [],
      "source": [
        "# Further preprocessing and cleaning both the datasets to drop any rows with NA or \" \" values\n",
        "gpt4_data_preprocessed.replace('', pd.NA, inplace=True)\n",
        "gpt4_data_cleaned = gpt4_data_preprocessed.dropna(subset=['question', 'response'], how='any')\n",
        "\n",
        "gpt3_5_data_preprocessed.replace('', pd.NA, inplace=True)\n",
        "gpt3_5_data_cleaned = gpt3_5_data_preprocessed.dropna(subset=['question', 'response'], how='any')"
      ]
    },
    {
      "cell_type": "code",
      "execution_count": null,
      "metadata": {
        "id": "lzPMB1h1wJD4",
        "outputId": "aa581e26-4c41-4f84-b9d3-4dd339aab17a"
      },
      "outputs": [
        {
          "name": "stdout",
          "output_type": "stream",
          "text": [
            "There are 351003 rows in the gpt4 dataset after preprocessing.\n",
            "There are 1435694 rows in the gpt3.5 dataset after preprocessing.\n"
          ]
        }
      ],
      "source": [
        "# getting the new length of both the datasets\n",
        "print(f\"There are {len(gpt4_data_cleaned)} rows in the gpt4 dataset after preprocessing.\")\n",
        "print(f\"There are {len(gpt3_5_data_cleaned)} rows in the gpt3.5 dataset after preprocessing.\")"
      ]
    },
    {
      "cell_type": "markdown",
      "metadata": {
        "id": "dED9xxQnwJD5"
      },
      "source": [
        "### Combining both dataframes to get a single dataframe"
      ]
    },
    {
      "cell_type": "code",
      "execution_count": null,
      "metadata": {
        "id": "Zzjn1d5iwJD5"
      },
      "outputs": [],
      "source": [
        "# .sample() is used to shuffle the data\n",
        "combined_df = pd.concat([gpt4_data_cleaned, gpt3_5_data_cleaned]).sample(frac=1, random_state=42)"
      ]
    },
    {
      "cell_type": "markdown",
      "metadata": {
        "id": "AD9q9S0IwJD5"
      },
      "source": [
        "### Data deduplication by doing grouping using cosine similarity (threshold>0.95)"
      ]
    },
    {
      "cell_type": "code",
      "execution_count": null,
      "metadata": {
        "id": "k033vbpSwJD6"
      },
      "outputs": [],
      "source": [
        "%%capture\n",
        "!pip install scikit-learn tensorflow-hub numpy"
      ]
    },
    {
      "cell_type": "code",
      "execution_count": null,
      "metadata": {
        "id": "BIt00C6pwJD6"
      },
      "outputs": [],
      "source": [
        "# Approch 1: using sklearn's TfidfVectorizer\n",
        "\n",
        "from sklearn.feature_extraction.text import TfidfVectorizer\n",
        "from sklearn.metrics.pairwise import cosine_similarity\n",
        "from collections import defaultdict\n",
        "\n",
        "data = combined_df\n",
        "\n",
        "texts = [row['question'] + ' ' + row['response'] for _, row in data.iterrows()]\n",
        "\n",
        "vectorizer = TfidfVectorizer()\n",
        "tfidf_matrix = vectorizer.fit_transform(texts)\n",
        "\n",
        "# Cosine Similarity Algorithm\n",
        "cos_sim = cosine_similarity(tfidf_matrix, tfidf_matrix)\n",
        "\n",
        "threshold = 0.95\n",
        "groups = defaultdict(list)\n",
        "\n",
        "for i in range(len(data)):\n",
        "    for j in range(i+1, len(data)):\n",
        "        if cos_sim[i][j] > threshold:\n",
        "            groups[i].append(j)\n",
        "            groups[j].append(i)\n",
        "\n",
        "# Merging the duplicates\n",
        "merged_data = []\n",
        "visited = set()\n",
        "for i in range(len(data)):\n",
        "    if i not in visited:\n",
        "        merged_data.append(data.iloc[i])\n",
        "        visited.add(i)\n",
        "        for j in groups[i]:\n",
        "            visited.add(j)\n",
        "\n",
        "\n",
        "deduplicated_df = pd.DataFrame(merged_data)\n",
        "deduplicated_df.head()"
      ]
    },
    {
      "cell_type": "code",
      "execution_count": null,
      "metadata": {
        "id": "1Gp9YWU2wJD6"
      },
      "outputs": [],
      "source": [
        "# Approch 2: using Google's Universal Sentence Encoder\n",
        "\n",
        "import tensorflow_hub as hub\n",
        "import tensorflow_text\n",
        "import numpy as np\n",
        "\n",
        "data = combined_df\n",
        "\n",
        "texts = [row['question'] + ' ' + row['response'] for _, row in data.iterrows()]\n",
        "\n",
        "use_embed = hub.load(\"https://www.kaggle.com/models/google/universal-sentence-encoder/frameworks/TensorFlow2/variations/universal-sentence-encoder/versions/2\")\n",
        "\n",
        "embeddings = use_embed(texts)\n",
        "\n",
        "# Cosine Similarity Algorithm\n",
        "cos_sim = np.inner(embeddings, embeddings)\n",
        "\n",
        "threshold = 0.95\n",
        "groups = defaultdict(list)\n",
        "\n",
        "for i in range(len(data)):\n",
        "    for j in range(i+1, len(data)):\n",
        "        if cos_sim[i][j] > threshold:\n",
        "            groups[i].append(j)\n",
        "            groups[j].append(i)\n",
        "\n",
        "# Merging the duplicates\n",
        "merged_data = []\n",
        "visited = set()\n",
        "for i in range(len(data)):\n",
        "    if i not in visited:\n",
        "        merged_data.append(data.iloc[i])\n",
        "        visited.add(i)\n",
        "        for j in groups[i]:\n",
        "            visited.add(j)\n",
        "\n",
        "deduplicated_df = pd.DataFrame(merged_data)\n",
        "deduplicated_df.head()\n"
      ]
    },
    {
      "cell_type": "code",
      "execution_count": null,
      "metadata": {
        "id": "z-Gm8g5kwJD7"
      },
      "outputs": [],
      "source": [
        "# Approch 3: using Google's Universal Sentence Encoder cmlm-en-large version\n",
        "\n",
        "import tensorflow_hub as hub\n",
        "import tensorflow_text\n",
        "import numpy as np\n",
        "\n",
        "data = combined_df\n",
        "\n",
        "texts = [row['question'] + ' ' + row['response'] for _, row in data.iterrows()]\n",
        "\n",
        "preprocessor = hub.KerasLayer(\n",
        "    \"https://kaggle.com/models/tensorflow/bert/frameworks/TensorFlow2/variations/en-uncased-preprocess/versions/3\")\n",
        "encoder = hub.KerasLayer(\n",
        "    \"https://www.kaggle.com/models/google/universal-sentence-encoder/frameworks/TensorFlow2/variations/cmlm-en-large/versions/1\")\n",
        "\n",
        "use_embed = encoder(preprocessor(texts))[\"default\"]\n",
        "\n",
        "embeddings = use_embed(texts)\n",
        "\n",
        "# Cosine Similarity Algorithm\n",
        "cos_sim = np.inner(embeddings, embeddings)\n",
        "\n",
        "threshold = 0.95\n",
        "groups = defaultdict(list)\n",
        "\n",
        "for i in range(len(data)):\n",
        "    for j in range(i+1, len(data)):\n",
        "        if cos_sim[i][j] > threshold:\n",
        "            groups[i].append(j)\n",
        "            groups[j].append(i)\n",
        "\n",
        "# Merging the duplicates\n",
        "merged_data = []\n",
        "visited = set()\n",
        "for i in range(len(data)):\n",
        "    if i not in visited:\n",
        "        merged_data.append(data.iloc[i])\n",
        "        visited.add(i)\n",
        "        for j in groups[i]:\n",
        "            visited.add(j)\n",
        "\n",
        "deduplicated_df = pd.DataFrame(merged_data)\n",
        "deduplicated_df.head()\n"
      ]
    },
    {
      "cell_type": "code",
      "execution_count": null,
      "metadata": {
        "id": "UI4GEOETwJD7",
        "outputId": "4fcf49f6-851e-4cd5-d6a0-f0bbfd705823"
      },
      "outputs": [
        {
          "name": "stderr",
          "output_type": "stream",
          "text": [
            "2024-04-01 17:38:30.691876: I metal_plugin/src/device/metal_device.cc:1154] Metal device set to: Apple M2 Pro\n",
            "2024-04-01 17:38:30.692327: I metal_plugin/src/device/metal_device.cc:296] systemMemory: 16.00 GB\n",
            "2024-04-01 17:38:30.692479: I metal_plugin/src/device/metal_device.cc:313] maxCacheSize: 5.33 GB\n",
            "2024-04-01 17:38:30.692983: I tensorflow/core/common_runtime/pluggable_device/pluggable_device_factory.cc:305] Could not identify NUMA node of platform GPU ID 0, defaulting to 0. Your kernel may not have been built with NUMA support.\n",
            "2024-04-01 17:38:30.693001: I tensorflow/core/common_runtime/pluggable_device/pluggable_device_factory.cc:271] Created TensorFlow device (/job:localhost/replica:0/task:0/device:GPU:0 with 0 MB memory) -> physical PluggableDevice (device: 0, name: METAL, pci bus id: <undefined>)\n",
            "2024-04-01 17:38:47.483971: I tensorflow/core/grappler/optimizers/custom_graph_optimizer_registry.cc:117] Plugin optimizer for device_type GPU is enabled.\n"
          ]
        }
      ],
      "source": [
        "# Optimized approach using Google's Universal Sentence Encoder cmlm-en-large version\n",
        "import tensorflow_hub as hub\n",
        "import tensorflow_text\n",
        "import numpy as np\n",
        "from collections import defaultdict\n",
        "from scipy.sparse import lil_matrix\n",
        "\n",
        "data = combined_df\n",
        "\n",
        "texts = [row['question'] + ' ' + row['response'] for _, row in data.iterrows()]\n",
        "\n",
        "use_embed = hub.load(\"https://www.kaggle.com/models/google/universal-sentence-encoder/frameworks/TensorFlow2/variations/universal-sentence-encoder/versions/2\")\n",
        "\n",
        "# Batching\n",
        "batch_size = 1000\n",
        "num_batches = (len(texts) + batch_size - 1) // batch_size\n",
        "\n",
        "embeddings = []\n",
        "for i in range(num_batches):\n",
        "    start = i * batch_size\n",
        "    end = min((i + 1) * batch_size, len(texts))\n",
        "    batch_texts = texts[start:end]\n",
        "    batch_embeddings = use_embed(batch_texts)\n",
        "    embeddings.append(batch_embeddings)\n",
        "\n",
        "embeddings = np.concatenate(embeddings, axis=0)\n",
        "\n",
        "# Sparse Matrices\n",
        "threshold = 0.95\n",
        "groups = defaultdict(list)\n",
        "cos_sim = lil_matrix((len(data), len(data)), dtype=np.float32)\n",
        "\n",
        "for i in range(len(data)):\n",
        "    for j in range(i+1, len(data)):\n",
        "        similarity = np.inner(embeddings[i], embeddings[j])\n",
        "        cos_sim[i, j] = cos_sim[j, i] = similarity\n",
        "        if similarity > threshold:\n",
        "            groups[i].append(j)\n",
        "            groups[j].append(i)\n",
        "\n",
        "# Merging the duplicates\n",
        "merged_data = []\n",
        "visited = set()\n",
        "for i in range(len(data)):\n",
        "    if i not in visited:\n",
        "        merged_data.append(data.iloc[i])\n",
        "        visited.add(i)\n",
        "        for j in groups[i]:\n",
        "            visited.add(j)\n",
        "\n",
        "deduplicated_df = pd.DataFrame(merged_data)\n",
        "deduplicated_df.head()"
      ]
    },
    {
      "cell_type": "code",
      "execution_count": null,
      "metadata": {
        "id": "Xh4yxM-fwJD7"
      },
      "outputs": [],
      "source": [
        "# Checking for hoy many duplicates were found\n",
        "print(f\"Length of the combined_df Dataframe before deduplication: {len(combined_df)}\")\n",
        "print(f\"Length of the deduplicated_df Dataframe after deduplication: {len(deduplicated_df)}\")\n",
        "print(f\"{len(combined_df)-len(deduplicated_df)} duplicates found and merged.\")"
      ]
    },
    {
      "cell_type": "markdown",
      "metadata": {
        "id": "JJ80-CUJwJD8"
      },
      "source": [
        "### Saving the new dataset as  \"`preprocessed_Orca_dataset.parquet`\""
      ]
    },
    {
      "cell_type": "code",
      "execution_count": null,
      "metadata": {
        "id": "9lv5frpZwJD8"
      },
      "outputs": [],
      "source": [
        "# deduplicated_df.to_parquet('preprocessed_Orca_dataset.parquet')     # Not using deduplicated dataset due to memory constraints\n",
        "combined_df.to_parquet('preprocessed_Orca_dataset.parquet')"
      ]
    },
    {
      "cell_type": "markdown",
      "metadata": {
        "id": "sgssLnB8wJD8"
      },
      "source": [
        "### Reformatting our dataset to follow Llama 2 template."
      ]
    },
    {
      "cell_type": "markdown",
      "metadata": {
        "id": "5Ppo1fX_wJD8"
      },
      "source": [
        "![image.png](data:image/png;base64,iVBORw0KGgoAAAANSUhEUgAAAccAAACkCAYAAADi6+XyAAAgAElEQVR4Ae2dv2sbS9uGvz9mugWBi4AhRdxYVcQpLE5xBIEjXBwRiCBwcAovASMML3ITccCIF4JcvMIQkOGAiqCAQSmMXAQZAjIEpQgsuFgIbGFQdX/M7K40O1pJK9nyD+UuzFrS7OzMM9fM/Twzs7v/NxgMwD/agAyQATJABsjAiIH/ozFGxqAtaAsyQAbIABmQDFAcGTlz5oAMkAEyQAYMBiiOhkHoNdJrJANkgAyQAYojxZEeIxkgA2SADBgMUBwNg9BjpMdIBsgAGSADFEeKIz1GMkAGyAAZMBigOBoGocdIj5EMkAEyQAYojhRHeoxkgAyQATJgMEBxNAxCj5EeIxkgA2SADFAcKY70GMkAGSADZMBggOJoGIQeIz1GMkAGyAAZoDhSHOkxkgEyQAbIgMEAxdEwCD1GeoxkgAyQATJAcaQ40mMkA2SADJABgwGKo2EQeoz0GMkAGSADZIDiSHGkx0gGyAAZIAMGAxRHwyD0GOkxkgEyQAbIAMWR4kiPkQyQATJABgwGKI6GQegx0mMkA2SADJABiiPFkR4jGSADZIAMGAxQHA2D0GOkx0gGyAAZIAOrKY5eH53TNtr631f3EXlGHvrnRvlPe3Ap5I+oDTm4UGDIwGNmYDXF8UcdeVFAdZI4XvWiwqmnO+/DC0TI+95B+7SDvmdArs6PESu3h9ZRGeUD+VdFXQradXiui55+ndj/w2sZ4nhSQkaU0HmA4uhetlBT9S2jfFhH+1JzQlzfzr2r0Ab6MajjF2dob9mRpub3AOv/mDs/y67zyP/JQ5SBOxVH53MDbSdagEQN8rWJ+lcvedSgxHGKmJxXkfkt4/89tSDEGtLh5zdNOMEg7BznIYRA9n0veu2zEoQpVt/ryKcE1raKKEmx2Csi+0TAem6jpercQTW8hjw+X4clBNY2g3Ko33bQjLPPrPrcRDScNhqnTrR+cfnFpOsf52GJNWRfl5RDUHqdxZqwkNltBTZ0UP9TwHrbjgigavOrBgpiA6WzUbvOzk+y46D9oQ1n6HRM4ilpuknn8/tEfTOOFX43uz/RRg/eRncjjtd9NN5kYD3ZQctdYND5WkUmtYbcYUeLxKbkM4eY+AIYL6Tqt2cb2EjZaP3Urjcmji6arwSs3VZUBK5ddE670e/CTqHKKFA60/INfzOPc9RnngGtf7Kj7LrzUYv2zGsPBohN5zZRFBbsTyNxU9d2O2h/0b77UsGGyKL2LVrP7rsNiJeN0VRx0vwGLlpv1mA930HDyDNa96TpouWK5sHfaA8y8KsysHRxdC9qKDyxkHlTR08XmHAQ/tFB/bCE4osMCrtl1E668VGB00blhRwUS2j9mAHsHGIyUxz3G2i8NKLHMXHsoJwSyJgRZljHuON9iqPbRe2lLzBTI/Jp6c7LsEQGtcsZbTGQjoMVdRxU1JhG5UI7N3F+8hwPvWNf2AtH3SkOU9J0Wjni2orfPXgv/1cdwFnv5fXd5YnjtYPWnowWc6h8jp+2887LSIs0CocNfw3wpAZ7ex3WE3tChJlwsLtNcdxuoH9qw9KjxzFx9NB+a0Gk8qh9mR6FDWG+J3F0Ppb8KPzd9KnJmem8NuyUgLVdQzd2TVGD9qKCtIweAyGVUaP1qjmKGqX4zJNfKFZJHaak6cJ8eaQYkoFfnoHliOOPJnY2/WixO2UatbMvIP42piIHA3jmBhgT1B9BFPl7Fd24tLcpjn/W4Qz6qG1p0eOYOA4w+NlT0Zhco5TrjtWP+mYcTSjCuty5ODpo/p1W05H1i2kCnjTdAN5XOSsg1Jpt9nUVLX0zTlhPdfTQ2rX8tUcVNY6EcugsyHZPnJ9mz2sXXRVFprHTjHfC1DWSpouUW7sOv//lB0udVf6/+n1jOeKopsiyqJxPG4QH6B9lIVJZlD/24MSJ3JQBqf+hiA2RR+OGG1hmTqsqcRzAOythI1VEU0ZJceIYlFXutqy+yqjNNuJJFvZJP35QuXNx9Kd+s+9mrdsmTRd0jmsXvY9VFJ/LjU3SMbDj1wIva8iKLPLbG9EpVrONk+ann+d2UNkSsA468bYO0yZNF6bncbo9aR/aZ4UZWI44yi3551Xk1FpjA/2JOws99E5KyKsdowLW0yyKB3V0pq0puh1U1drjlA0Ztx45SiHwd16m/+lOFcehR3nVRV1uQpKbVk61DSohTHcujgMMkthOli9purAuwdH9UseOFMmUjfaYsxNMPcdszhnabK78fHEONwvN2qyVNN2ksvD71Y8U2MZsY52BpYmjusjPni8QTwqoTZ3KG8BzHfRO6yirqCuN8vm4oMxcBwsH16WIYxg92mid1xLed9hD7TcBsR8T0dyHOCr7JFy3TbzpxehQl9I28btwp0XpOpSR/yflN22zUMiBPCZNp5/D/xkRkYFfnoHlimMAmPO5oqLI7MH0TSD+oNhH/Q9DUKTIhutlSe53XJI4htFj9q2NfOQ+Rw+9i7jpU78usdN99yaOgZiFm1R+L0+/93RSup89dL8bwijb+3sdOWGhfD7+21RxnCM/53MZWXlrz6xNRQnTRcSYg+IvPyiSh/G++yva5E7EURnW7aL+9w7q4ZTpzw5KWzlUzPXGH03YzwSyR5rYnJWRTFiDRp0ljtce3CtX/XXf5yCEjVbw2XVHEasazIM1xyEc6r49uQlldG+kd1bGurz5/U0NnW8uPDmN/NNB9728Sd64ZSEcfO9bHGU5gk0qO8dTNrLEpvPQ+c86RCqDnaMO+oHNvB9d1LYtiM0KujFT6ZPFcZ78HJ+jGTMRypGRvM1Mx4FgyHbIJo90EMgA7k4cQ2Nrg6Z70UBJ3rohpNgEf6l15M2IQDsnUUeeJY5qQ412zfDa8qiJYaw4Dlx136MujrJMcXWxnuYn3sYyeAjiGNMmU+2rt4MUVm292G8/C+vblYmR6GRxDIQ6aX56OcI6xB2Tpos7l99RIMjAL83A3YtjHHBaJKeirrg083w3SxznyWvetJ4fkeoR6FTBSZL/fdYnQfk8N6jz2CacxaKy287vxvZPYANeY7G2pt1ot4fKwMMQx9sefJSYaFOlcso07uk8t33dW8xvKBCy7Bc15LRp3IcKE8vFgY4MkIFVYWA1xdHtjN4UEb4xoqmtYd6iiC0HBBed4ds9wrd8NNF/8OXmwLAcHmhX2pUM3DUDqymOFJFfeq3grjsRr8eBmwysHgMURwophZQMkAEyQAYMBiiOhkHoAa6eB8g2ZZuSATIwLwMUR4ojPUYyQAbIABkwGKA4GgaZ17tgenqkZIAMkIHVY4DiSHGkx0gGyAAZIAMGAxRHwyD0AFfPA2Sbsk3JABmYlwGKI8WRHiMZIANkgAwYDFAcDYPM610wPT1SMkAGyMDqMbA8cbx20Dmuohw8oaZ20oVzVw+Cls9q1d6uQXCXCK56Lu7oTSa09RJtTUeO0Q0ZuDMGliOO8nVUmwLyrRS2Ekcb+acWxJMcaknex3hTAORbN7S3a3DAXuKA/cAfis62X2Lb37Sf8vw7G+jZD+bvB0sRx+4/GxBbNfSMSLF/2kbf+G4ZjeZ8yFMc72rgOS/D4kPROcjdFW+8Dlm7IwaWII4OGtsCYrcFb0olnNMqyu87cOPS/GihetBAV38FUjBNW3qdQ+YvG+WjBrrhi5NVHi56p220T9to7GUgnoVR65QHd//ooH5YQvFFAfZBDa1LVwOvj+ZBDZ0rB+0jG8XXZbTkm++dNqqvCygetBYQ+iBPdwDvexu1vSJyqi7tmClnmbaM5jff43HO6qiG6T90o7Z1e2gdlWH/lUNxr4r6mfHyYvUg9ib6P3toHBRR3K2j+3MA72sDpb8KsI9H+blnNZTlQ9rV+xqrwzwbkZcGe+if+7Zu/7cAIbIohg94V8caOu78ntoyHCXmyXYgA2RgEQaWII4D9I+yECIN+2MfE9/PqKbj0qhcjDdc990GrLftkQB4HZQ3BdJ/VdFQAthAbTeP9dQa7E+hoPliItc47e2NmeLY/1DAmlhDbr+OlhTUwyIyqTUUPoRv7+igJCxknmeR2y1j53cL4s8d7LwooHSwg2xKIHsUph2vQ3xjyDw3UHxTwPrzIkrBlHPuiYC1XTfEVqYVKH3uo/l3GtbTLIp7UuhtFP7pDEXcu6whnxJYe2GjdtJC/UDWQyD9tj1yPAJbZ7ZkHiUUNgU2Xu2g8GIH5b0C0sKCfeqvG/oveN7BzvN1VW9pz9KrDCyRRuksXFvU3hryWrY1xTG+vZNywXS0Hxl4aAwsRRwH1w5ae3JA9dcdS8cd9PUoUEV6HtpvragIyu+9NuzUBipfNFjkGqLYQct8J6MXDtZa2sEA/gBfhxMXlcrvLipIRwZ7/3zvcwkbqR00VdTji9PGu64vRKoMWdQu/bTtPQHxqjkSoEnXinzv55neb8PVp5e/15EXAsV/Q6GX1wjSbqYxlj7M87qLihS6Pc2RkL+p/KxRfkocBQonfv7KPik7sGcf9T8ENv7x6+n/lkc9iFh9YD2096TDUUE3vHZ4VHYpoRN+5nHouDy0zs7yRMcJ2oP2mMbAcsQxHCDltOV+DmtCQKTWkT/sREXhsoasKKBxNWok79SGZQ7C32Q6C9mDFnpOvCDqlZwljp19C+JlI0bYOiinBEpnI3HKHwdTlIYIdPbFAuuaQTSo8h/VeTAIpqL32trA6qcdjyi189R6X2Yo2CMbeGjtCojthu8gBOLo18t0HhzU/xQQ+340OtF26lo51OXUcti+8mjYJfKbno7/R+1Ge9AeZOBBM7BccQwb3+uj/c4XyehUpIvGS4Hs+15gpOBzzHSlWh/bXlfRqBTa7Ovy+NpacL2JA7z6PRADKdgT/vwIzhenuxHHAcbF1rh+aEvtqOo5YTNM5LfbEEcjj6EIUhwfdAcftpPGDb8zHDzahgzHMHA34qguHEQz5i0WXyrYSNloy2lXFSFGI8mxjuy5cC7bo7W1g85obTKo4HRxdNF8JTcMNeFcuXBj/vx1UkOcDBEYF7MkHc7PM4zgRnULy6RvYjKuH9N43icbQhSDaeDo9dWO4d9q6MnzDGGL2idh5HhRwYaIiVINu4zqFC0Pv6c9yAAZeEwMLEUc+xe9McGSRlHrdOFU33Cw76O25a+HyY08kY04wzTxUPX/l4OIiZzU4G9OzWp5qd+Ha27xeYdrfncSOf5swU4JDK+lyjpbHH3Rs2B/Mqaar3vKplYwVXob4th7n4VIldDR10plOZU4xgv0Y+oILOukfsDvycavycDti+P3RrB7soLWpePvVvVc9D/aaldkdNOJb3S1zriVR/6ZsRFHiYSHzn4WuXfGeuO1g+aufz9lXxM+BfLXKtJiA3ZTu6XhpwM33BQU7H61fi+j/X0kLN73DmofwkjUECcjQrpJ5Gg9L6ER3jZy1UVt24LYLKMTli+pOA48dA7SEKk8al+CzTxeH623/neN8FaXeSNHsYbCYbCJ6tobtl3+g2bP0OZuEztS2P/bHa0new5cc/NUmJ5HTmGRATLwCBi4fXGUlf4h7wXM+htxwnW9J1nYx/ER5SCIdOSDA8aETubndtHYl7du6OuEFta3K2g7cV6Nh96RvFVDS59Ko6rvgP3ZQ313WhmXJ472UQP21tpwzXNtq4TWWD2M60+C6dpF5zBqm7UtGw19t+m84vhHFQ09z9Q6ikcT2k7uDv5UUrePjNZw11DUHZNJZef3HCTJABl4oAwsRxzDyqrnbsp1vVF0Fj9FMZpajf99JIBeuEYYibJGv0fOT3L9JGnC+tz46AteuOboue7tPQM2rMcNI7bIemSQ58R7VXV7hNe/ciff26qn5/8cFMkAGXjADCxXHBNW3P1owwo35SQ8JyKCj+acqDg+xDpExPHR2HWCc8Tyc/AlA2RgQQbuTxy9LhryCTG78hYP/ekrqzzQURwfokPAMq1yn2PdyPdiDNyfOH5roSLF8bCOTrhxZEGFfzyNH31e6kMst3q26tGEZ96ufPss1okeYjuyTGxLMnAzBu5PHDnQcrqDDJABMkAGHigDFMcH2jD0+m7m9dF+tB8ZIAM3YYDiSHGk50oGyAAZIAMGAxRHwyA38TR4Lj1VMkAGyMBqMEBxpDjSYyQDZIAMkAGDAYqjYRB6favh9bEd2Y5kgAzchAGKI8WRHiMZIANkgAwYDFAcDYPcxNPgufRUyQAZIAOrwcCjFkfnoo12+HYLihw9PzJABsgAGbglBh6vOHpt2KkNVC7GvRTnrI6qfPqO/DtqoKs/gcftoX3aRu9q/LzBwEP/vI32FyfyPkr3soVamN9hnYJ8S/DRw45jkN+RCzLwEBi4U3F0PjcmvGIqCkOSdO6/RYy/4kq++1G+y3Ad+V1fHO3tdVhiDbn34SuX/Dffx75U+aqBgthA6Wz0FpH+cV6dn31dUmJbUq/ispDZbcEZioSD9oc2HPNFwMPfw/olTRem5/EhdBKWgRySgV+PgbsRx+s+Gm8ysJ7soOVOMXLSdAMXjZcC+WPj5bsXFWyILGqXxjW+tdH+rn33JUinv/NwMED33QbEywbcUNTcJorCgv1pJJaqk7gdtL/o37lovVmD9Xwn+h7FMJ/hMWk6razDc/kdBygyQAbIwF0xsHRxdC9qKDyxkHlTR2/KuwaTplOG+VZDVhTQMKZGnQ95CGGjNfNdjy6aryxYu63R9KmKGtPRadrzMiyRGRfbWMHy0DveQSa1hsJRF+7EKDJpOnaCu+oEvA5ZIwNkwGRgeeJ47aC1J6PFHCqfjQhPF5ek6bRz+kdZCF3Ywt+UaAqk37bQnyWQFxWktShTRo3Wq+YoapR5qnVNAWu7hq4hxKYhh5+dNiovZBRZQktf6wzLGB6TpgvT88iNBmSADJCBO2NgOeL4o4mdTT9a7E6bRk2aLgJEF5VnFuxTfVpz5PU4n0rIpIS/7rhfR+d7fDq5+aa1a0GtPaqoMWY6djCA91VGvgJCrCH7uopWkt2x1y66KopMY6c5zTFImC5S/1Fdh4LM3++sw9Dm5I8M/BoMLEcc1XRkFpVzd/qglTSdPvjL9cJnFXQnTlsOMLh20DkuIadEzcL6dhWdOJG+lNOzWeS3N6JTrPr15P/XLnofqyg+tyCEwNqWPWNtcYCB20FlS8A66Ey3QdJ0Zpn4ebpdaR/ahwyQgRswsBxxHAzgnleRU2uNDfSnCFnSdL635qH91sLGu26yRr/20D+t+CK5VUN/zFB+fkJOrxqbcyZ5h+6XOnakSKZstCdM3fZP/LXH3GFnytrjAEnTTSoLv/81PFi2M9uZDNw9A0sTR9WYP3uoq12qBdQupkSRSdOpNcCkG2RGxvQ+2RAij3rMGqBzLDfxlNAZE87R+WNgXtaQEQKlMyON20Xtpb9rtf510nSujCoTppunTEybzGGinWgnMkAGEjCwXHEMCuB8ltGbhezB9HsBZ6VzTwox9zZqAvW9G78j9nNJiWPD0dKGZZsmjj976Oq3gIQG/V5HTlgon4/ycz6XkU2tIfduVh2TpRsT5PDaPLJjkwEyQAaWzsCdiKMa6N0u6n/vxEZvESGYmM6/t7FwMikC7aOxbUHI3bEfe3DkbSPXHtxvLdibYnwnagDX5MjRQ+c/6xCpDHaOOui7fiTo/eiiJq+zqa97On7dpkXH6npJ041EN2Ibdoildwjam+yRATIgGbg7cQwH9inrjxEozXQT7m2MnuOgfVhEVm3EkTtMg12mu5PvsZwsjv5GnO5JCfmn/kYcPz+5wacy/qQfs7xhfc1j0nTmefxMYSQDZIAM3BkDdy+OCzauvLcx9pFvE/Lzrly4Vy68WxIjz/XzcydswomI9IQyMQ09UjJABsjA42DgcYjj9fR7Gwnb44CN7cR2IgNk4LEw8CjE0ftSRf5Fdfq9jYzW7my64bHAzXJyICYDZGBRBh6FOC5aOZ7HjkEGyAAZIAOLMEBxZMTJiJMMkAEyQAYMBiiOhkEW8TB4Dj1TMkAGyMBqMUBxpDjSYyQDZIAMkAGDAYqjYRB6f6vl/bE92Z5kgAwswgDFkeJIj5EMkAEyQAYMBiiOhkEW8TB4Dj1TMkAGyMBqMUBxpDjSYyQDZIAMkAGDAYqjYRB6f6vl/bE92Z5kgAwswgDFkeJIj5EMkAEyQAYMBiiOhkEW8TB4Dj1TMkAGyMBqMUBxpDjSYyQDZIAMkAGDAYqjYRB6f6vl/bE92Z5kgAwswgDFkeJIj5EMkAEyQAYMBiiOhkEW8TB4Dj1TMkAGyMBqMUBxpDjSYyQDZIAMkAGDAYqjYRB6f6vl/bE92Z5kgAwswgDFkeJIj5EMkAEyQAYMBiiOhkEW8TB4Dj1TMkAGyMBqMUBxpDjSYyQDZIAMkAGDAYqjYRB6f6vl/bE92Z5kgAwswgDFkeJIj5EMkAEyQAYMBiiOhkEW8TB4Dj1TMkAGyMBqMUBxpDjSYyQDZIAMkAGDAYqjYRB6f6vl/bE92Z5kgAwswgDFkeJIj5EMkAEyQAYMBiiOhkEW8TB4Dj1TMkAGyMBqMUBxpDjSYyQDZIAMkAGDAYqjYRB6f6vl/bE92Z5kgAwswgDFkeJIj5EMkAEyQAYMBiiOhkEW8TB4Dj1TMkAGyMBqMUBxpDjSYyQDZIAMkAGDAYqjYRB6f6vl/bE92Z5kgAwswgDFkeJ4Q4/RRe+0jbb+d96HN8Ou3rcO2l+cmekWgXo553jonxv1PO3BnVHP5ZRlvsHO+95BO0GbjJXV66Ojt+tpB31vvmuP5fkI7PUoy3ztoHvaRs9l+9xW+92+OAYdqndlNlIwuHx1bzgYm/ny81wwXHtwXe8W26CDksigdKIJx8yBuI/alkDxX42Fq15UYPVBWc8v4Kvz3ayDL9Jj3Lk9tI7KKB/IvyrqUtCuQ2biBE+rR1AGP08j7UkJGVFCZ+HBPszPFNhJ34dlnv/oHOch/qzDmbesThM7v2WQkX+baxAij/qP+a8/F5/zlpHpVV/2Tm1Yzyro0h63Nrbdvjj+qCMvBEpnZidyUP9TQOx3bq3w7HSmjRN8PistNlBO7HRSHOccNC8q2EjZaOtRyHnVH4TlQPzUghBrSIcD85vmaGAP+BJbNfSGIifrLcthcPe9jnxKYG2riJIUx70isk8ErOc2Wo48x0HzTTD4q2ulsSYErKf6dxlUz2PsqspxE3EM+oPIovZNy99rw04JiBsJr5bfYICFxVFvc8nNvO2sn8//Fxz3PPSOm+hNtZ+L5iuB7FF/sWt8baL+1XQ2owz9imMtxXEqdKsHiPNhwShiop3mF8fuuw1YU5wkNZhPEgclShvYeGbB/qR3aFMc/QHD2m1Fp26vXXROu9HvhnXz88gfO7MHmVsRxzQyv1mRQc2PADawMan+w7ImZ5PimNxWD0oE3A6qL9ZgPa9OF8erBgo3cVy+VpFJrSF32NFmVR6pzRboH5Pa/P7F8UcH9cMSii8yKOyWUTvpwolEBKNGci9bqB3YKLwoonRYRydmiqffLKPcDDyoYd4F2AcNdPVIJYkRvzVRPpLAeOif1lB6nfPLeBozeLod1A5q6Mg5/2sXvY81lHcLyL0uofrJSB8pVw2tS216cTCAe1ZTdfC+NlB+XYR9LAdzD72TEgp/2ah/CUXBReeojKaMPK66aByGtmmgG1l7GK0LNvYyEM/ysNU0Yzjd2EQ/iT1i08wpjioy2kDly6hdTThni2MJjZMCotGjKY4dlFMCmfe92UI3rNddi6OA/daGtVUL7O+h/dZCfr+EfIw4Omd1VPeKyP1lo3zUmri+5AxZraJx4aI/aVr12kHnuDri+qM+5Wy0z21GjnIK/bg66h/HHaPPa1wHZbT/yqG4V0PrW8i+Vj6tHhllmwa6w7Ghj+ZBGY2LmPPCdtf7bvjdjD4qmVX9VI4P8pxg+t4vZxWt4fW1coZ5Jzg6H0u+YL1rG7YZz69/lIV42Yhf/x7WY8b46rRRUUJcunHZzf78WD/fqzh652WkRRqFw4a/3nRSg729DuuJjVZkcPfQOcjASmVQVGlbqO/nsJbKoHwWhb6zL6du2+j/u4N0ah3Z1yW13mT/VUFnguhObDw5IDwrYuflOjKv/HzKuzmsCQv5Y2MKQ0USedS/dlH53cLaphRkfyrPPhmJo3tqIy0sZF6VUf/YQC3M76g3jGaUOGxmkJXTgXsFpMUGin8XkHtTRumvNMRwStKfmsv/vYPM01wgeCUUn1sQmyV0foYdyR8g5Lqbvb1xr+KoIqPfalM94dnimEfjm5x+1KNHUxx9oRGpPGpfos7HxPYOpmbvLnIUKH1qwQ6nVpXjkEXtQ8WIHF2038p2z6B4UEdL9pMXa1B1u9T4v+6j+XeQbk86PiUUt9aR3twYn0r/3kDhicDaixLqH9ton1QVN2svG+jH9ZNbEsf+hzzWxJrql7WTNhpHNnJyqnu7rl3X59r+t43y83XkdoO6SK5TeTR04fE6KG8KpP+qoqHWiGWfymM9tQb7k2x3B41tgY1/uoGT5KG1KyD09bnPJYhUebh+3P9QUGXM7dfROm2jcVhUQlX4EO3zYUTe+1JBNrWGtBTmgzJKr+1oGROI4ZBJt4vaSxkt7iSc6vTX76OzKH6/Tz6+huOEnMLd8et61P3lo8h7FUclZH8b016DATwjwnP/LcJK5VH/Hjaif+z/Lw+xGZ1yUHluppHeLKEdEdjouUMYp4GrBoQ0Sp+jg6u6riiiqecfTPelN9eQ/1+0Ew2vddVEMSXGfvc+l7Ah0qhc+GX0xaGAhtrU5A8Uw+nB73XkxEaQNvgtMrAMMPjZRumZPiCM6h526Lk3Z0y00zyRY7K1kSTiKDeGKI95uPZoiqO0Q08NNEL4647VaZGRqt/dR475454fLR47UI6D3DijuButZyr+5bRZhH8P7b0NiM0KuoGYhekia5gD37GMbMi57qIiBWW/M3TIFKOKGws7zSjv6rdbEsfBVX884r2sISssbaDq698AAAtBSURBVJ+Cz7V4UkA9Zj02p/cvVa4dtIaOYMC6N3Iauv9sQGw3gnXrLirP5JpybmjP3vsMxKumH3ldVJTDXjKcbtVHUzuRPq84fZZG+kk+Ws6JfWXUD4djgpbWu6gqkc0liBaH58et3wd5Jh1fh3mFZfkRRJG/V+efbQvzWIHjvYqjGtxSWZQ/9uAYgjhqML+jbLwLPT8NMKeBvDHXroCIEdJRftr5sxrQGKSGeajrCpQ+a3kpcYwZcLRrqPU+YaM1Vtcear8JWAf+ZqWoOPj1H0YzwXX8DU/Gb9q1OgcWxB/1senSexVHtTYSir5mO63c0sbR+hvpwghdRg9eB6VnVrDrNUYcg3zldHz1VQaWEBBPsrBPJjgv9xA5ynYNRbG+b6Fw4mIQ4c6PfIS5dirrdllDRlgoqw1Dk9ONtflZCZaIbwfFTdx68G2Jo97Wcuf0lYPeWRUFITBkfDCJa//7yKa+b76wZg9a6DkjQRz2VXk9GRmKEtrSiZD8/FZBZTfcLe07bOH0e2ffmjBF6U/T6xsNfU7TMIU0cm29vjP+V+PDsyIaukMw4xy5fh87Ng4C53Hm+Gr0r+B6/Q9FbIg8GmrjWnyaRev5WM67V3EcBOtoebU7Ue4SzKppo+haoj/oSe8//i+MovwGVOK4yLb1OAgjg5QOSEyEEREtPe3o/2ll03+LioMxUESuY/ym1SGax6gMYwOlds5i0EpbJNutOnVtRCvHpLKr8uniGAqpip4mi+OwXldd1N9IkbRgn8YNpDHtqpVrmI/8TpVjFN1Ffpt0TuR7re2uOyilLFipYDYiwt20Mum/6f+P2luWy2xz376T+pMYRVF6eW9LHNV6fBXF3+XySRoZuX/goIjsouIoZ5q+NlCSyzFyjFBLKWXUz0ZLGQPlzGZQuxzA+2RDOhrd95nAGQ1ETzm6gfhOHGtCQfXtO5VT3XZz/N8/8ac1E22Ombl+7+9TmD6+RlkZDDcB7cwl0vPzb1x3Dhvd1bVuXxzdJopCGDsJpSF88EZz/1HjeK6D3mkdZeXhp1E+DwcvOQ0ikP1vF+6VG/vnaWskusjc2IiRQUorb1wdI6KlpdUaXU3f6Gsdw9987zWMDqKdThtEZfrIdYzfhvkNoKaSYtb2zIHyxjZS0VYScZy8NmKWIVp/w5aGOIbRo/2po6Jv3bM38/U/+1F6JPoY2m2ywIzldZviOBhARgBh+0cjR7+8sf0mwqHfT8IISC+v2eZy+lUIG00nvj+55hSltM+tiKOc4k3D+r2MduQ+VdPuk7j2v49vOzmT4MK5bKN+INcIBdIH4bSxbxt5X62MjFWEKqNn2T+C2Sc/Qgr7YRNOgrFmKqdDpgx+k3yfcHNMkvX7kIPJ4+uofPNsAgrzXeXj7YvjIOjM5jTozxZ2YkVz1Di+ofuo/xG9H1JNdQzXlsz00c93IY7S+7TMaCkiWtEyDQFS01lZ5cEOv5Od5WdL3dsWTitFO50xUESuY/wWdrzrnrrJPu52CZV3rEBPKHOY58SjHNgSiOOXmHsbJ+QZrb9RLlMcw8hoy4b9p36fo4feRdz0qc9XOIUdaYd7mlaNliEUolFUOon/KIfBRpPhzteR3fr/y0U35Cgb6puZRmnHyhK20a2Ioy+CkeUIlf8tiWNYVjmlKOs83PHr28Y6qKH2WzDTpByLIpr/liA0J1Kxl7LH1zC1vEMbTeU0Jn14XrJjuDkmjZ3j0Wa90bkuGi8XubdxfHyVa/P1v9NzbAJKwMuN63//11iCOIZrRmnYH/uQUZ3n+DuwxLMSOuF6288OSls5VMz1xh9N2DJS1G9o/dFQN3On/66jqz15R93aEd62ETTG7YujhcxeA+GTV9wvNb8sQ680aMSIaE1qWLkuJHeS2miFnvNVFzX1XXlom2inMwQwcp3Ak35SQPXMt/XA66OldjYau/pCWL9W1e5Xu6lNO/104IbtEqZLfEwmjtPWRlSHV+tPfiTTfS8HNhut0HvXn+gTI44DucHkmT9NGEaO3lkZ63JX8JsaOt9cxeHgp4Pu+zwsbfPTaLCRbWYO0pPaMYzgRwIWzWfKeUO7Gu06/H5cHAch/29bw8e3xXHo7060kH8f7DS8dtE93kFaThNGlhr8CE7I9ajTgBt5ffn0oaPGkMNIndR6sTXaTHbtwtE3pOnln/i/307p/fZwJ6T33d/8IZdMQucwnGUafQ7tGfA+XBP10NnPIvfOWG+8dtDc3VC3+oS3KPn39+bVLTJq7TGYycr9kYPYa49u9wl2v5rRrXwEX+1DGIn65Yn207CMt3z80Ub599FO2mGbzFq/n2d8PSsjezD7lpHhtSe27y3X/Z6vsxRxlPf5dQ7lLQ+jdQ25NdlcaHYvtLWCMG1qHfm43VpyqiFcVwjSWk/zqHzWBvnBALcvjjZqJ7Z6soq/5rmG7H5r/N6jiGhNgeS6j8ZuVrONhfXtqn9/ZABDtNMZg2jkOv5vucMGqpptrKdF1CY+8cJD70huVR+1jUilUZ1y3+H0TpFAHGeujYSCoJVJL58+sMeJo7znTN73aDwhJ46vOGZG9Xug4ii5+NaAvSUf4RbYSPaTmJu25S1MckrRTyedgwb6p3FPRZKRic61PGcN2d06enHTqjIaU7c4jPJOH8ZskpsxoHlfqurWjbAea1s26hcu2nuLiKO8v7CLxr68dSMslzzKPlVBW99MInd1StuFu1LlVLbcxSpF+UN0DFGRVKSPBhu5jAgu2k+n9PkZNhnxNyEPbdkoTJtk/T6Of7kmOza+xuQfXudXPi5HHEMYwmhA9/zD3/RjmO4q8PD138z/vWCdZFae5nmLfNbXHMMyLhxhGeDfSn6GcP6UtgnXao3rmfUPr580vXn+8PNscVRrIzHTfXfW8ZbBjBLpm0SOM9pnaF8jnWrjGf0kbNuErHpBhK6v3U9sm9CWCfOOzScs3wQRjj1nkj2078N6LD4LYtg6LOeN+4iRr1bmxeoq1+8nbSqLudawHjO4uXG5Yq79iPNcrjg+YsMoaHVxfJB1McTxXsooxTGH2oW2uSPiuCy6NvLwOprnanW8qCE3XNN6eGVdbNBlPR6F3eZYv38U9bmXcWs26xTHaQ1DcRytxUy00+jpO/6bL8r+I/fC9E4T9m82mtpa8ePssP4jzYZ1VI/fu8lj92Z3zsdpJ9Zrue3mofvfPHL/nX9Ke7nlWr12pziGg3jcUT5b9eAhD4D+gF07i3miSVx9+F0CsV+9Ts5BkW1KBuZngOJIwaBgkAEyQAbIgMEAxdEwCD2s+T0s2ow2IwNkYNUYoDhSHOkxkgEyQAbIgMEAxdEwyKp5P6wPPXoyQAbIwPwMUBwpjvQYyQAZIANkwGCA4mgYhB7W/B4WbUabkQEysGoMUBwpjvQYyQAZIANkwGCA4mgYZNW8H9aHHj0ZIANkYH4GKI4UR3qMZIAMkAEyYDBAcTQMQg9rfg+LNqPNyAAZWDUGKI4UR3qMZIAMkAEyYDBAcTQMsmreD+tDj54MkAEyMD8DFEeKIz1GMkAGyAAZMBigOBoGoYc1v4dFm9FmZIAMrBoDFEeKIz1GMkAGyAAZMBigOBoGWTXvh/WhR08GyAAZmJ8BiiPFkR4jGSADZIAMGAxQHA2D0MOa38OizWgzMkAGVo0BiiPFkR4jGSADZIAMGAxQHA2DrJr3w/rQoycDZIAMzM8AxZHiSI+RDJABMkAGDAYojoZB6GHN72HRZrQZGSADq8YAxZHiSI+RDJABMkAGDAYojoZBVs37YX3o0ZMBMkAG5meA4khxpMdIBsgAGSADBgMUR8Mg9LDm97BoM9qMDJCBVWOA4khxpMdIBsgAGSADBgP/DxSqy8EVbNsnAAAAAElFTkSuQmCC)"
      ]
    },
    {
      "cell_type": "code",
      "execution_count": null,
      "metadata": {
        "id": "z-_uNGpBwJD8"
      },
      "outputs": [],
      "source": [
        "def chat_template(row):\n",
        "    instruction = f\"### <s>[INST] <<SYS>> {row['system_prompt']} <</SYS>> {row['question']}[/INST] {row['response']} </s>\"\n",
        "    return instruction\n",
        "\n",
        "instruction_list = combined_df.apply(chat_template, axis=1).tolist()\n",
        "\n",
        "# Create a new DataFrame with the instructions to follow llama2 template\n",
        "instruction_df = pd.DataFrame({'text': instruction_list})\n",
        "\n",
        "instruction_df.head()"
      ]
    },
    {
      "cell_type": "markdown",
      "metadata": {
        "id": "OZgW-YvGwJD9"
      },
      "source": [
        "### Saving the new dataset as  \"`instruction_preprocessed_Orca_dataset.parquet`\""
      ]
    },
    {
      "cell_type": "code",
      "execution_count": null,
      "metadata": {
        "id": "huS3DgW-wJD9"
      },
      "outputs": [],
      "source": [
        "instruction_df.to_parquet('instruction_preprocessed_Orca_dataset.parquet')"
      ]
    }
  ],
  "metadata": {
    "kernelspec": {
      "display_name": "Python 3",
      "language": "python",
      "name": "python3"
    },
    "language_info": {
      "codemirror_mode": {
        "name": "ipython",
        "version": 3
      },
      "file_extension": ".py",
      "mimetype": "text/x-python",
      "name": "python",
      "nbconvert_exporter": "python",
      "pygments_lexer": "ipython3",
      "version": "3.11.4"
    },
    "colab": {
      "provenance": [],
      "include_colab_link": true
    }
  },
  "nbformat": 4,
  "nbformat_minor": 0
}